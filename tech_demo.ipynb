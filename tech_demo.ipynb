{
 "cells": [
  {
   "cell_type": "markdown",
   "metadata": {},
   "source": [
    "# AIDI-1004 Tech Demo\n",
    "\n",
    "Thomas Shank - 200346862\n",
    "\n",
    "DTT (DeepTalkTranslate)\n",
    "\n",
    "DTT is a audio hot-translator that "
   ]
  },
  {
   "cell_type": "code",
   "execution_count": 1,
   "metadata": {},
   "outputs": [
    {
     "ename": "ModuleNotFoundError",
     "evalue": "No module named 'encoding.audio'",
     "output_type": "error",
     "traceback": [
      "\u001b[1;31m---------------------------------------------------------------------------\u001b[0m",
      "\u001b[1;31mModuleNotFoundError\u001b[0m                       Traceback (most recent call last)",
      "\u001b[1;32mc:\\Users\\tomsr\\Documents\\School\\aidi\\AIDI1004 - Issues and Challenges in AI\\week-10\\tech_demo.ipynb Cell 2\u001b[0m line \u001b[0;36m2\n\u001b[0;32m      <a href='vscode-notebook-cell:/c%3A/Users/tomsr/Documents/School/aidi/AIDI1004%20-%20Issues%20and%20Challenges%20in%20AI/week-10/tech_demo.ipynb#X10sZmlsZQ%3D%3D?line=0'>1</a>\u001b[0m \u001b[39m## Imports\u001b[39;00m\n\u001b[1;32m----> <a href='vscode-notebook-cell:/c%3A/Users/tomsr/Documents/School/aidi/AIDI1004%20-%20Issues%20and%20Challenges%20in%20AI/week-10/tech_demo.ipynb#X10sZmlsZQ%3D%3D?line=1'>2</a>\u001b[0m \u001b[39mfrom\u001b[39;00m \u001b[39mencoding\u001b[39;00m \u001b[39mimport\u001b[39;00m Translator, Transcriber, Synthesizer\n\u001b[0;32m      <a href='vscode-notebook-cell:/c%3A/Users/tomsr/Documents/School/aidi/AIDI1004%20-%20Issues%20and%20Challenges%20in%20AI/week-10/tech_demo.ipynb#X10sZmlsZQ%3D%3D?line=2'>3</a>\u001b[0m \u001b[39mfrom\u001b[39;00m \u001b[39mrecording\u001b[39;00m \u001b[39mimport\u001b[39;00m Audio\n",
      "File \u001b[1;32mc:\\Users\\tomsr\\Documents\\School\\aidi\\AIDI1004 - Issues and Challenges in AI\\week-10\\encoding\\__init__.py:1\u001b[0m\n\u001b[1;32m----> 1\u001b[0m \u001b[39mfrom\u001b[39;00m \u001b[39m.\u001b[39;00m\u001b[39maudio\u001b[39;00m \u001b[39mimport\u001b[39;00m Audio\n\u001b[0;32m      2\u001b[0m \u001b[39mfrom\u001b[39;00m \u001b[39m.\u001b[39;00m\u001b[39mtranscriber\u001b[39;00m \u001b[39mimport\u001b[39;00m Transcriber\n\u001b[0;32m      3\u001b[0m \u001b[39mfrom\u001b[39;00m \u001b[39m.\u001b[39;00m\u001b[39msynthesizer\u001b[39;00m \u001b[39mimport\u001b[39;00m Synthesizer\n",
      "\u001b[1;31mModuleNotFoundError\u001b[0m: No module named 'encoding.audio'"
     ]
    }
   ],
   "source": [
    "## Imports\n",
    "from encoding import Translator, Transcriber, Synthesizer\n",
    "from recording import Audio"
   ]
  },
  {
   "cell_type": "code",
   "execution_count": 8,
   "metadata": {},
   "outputs": [
    {
     "name": "stdout",
     "output_type": "stream",
     "text": [
      "Translator instantiated\n",
      "Of course! How about \"AudioLingua\"? It combines the concepts of audio and language translation, giving it a modern and tech-savvy feel. What do you think?"
     ]
    }
   ],
   "source": [
    "# for line in stream:\n",
    "#     print(line, flush=True, end='')"
   ]
  },
  {
   "cell_type": "markdown",
   "metadata": {},
   "source": [
    "# 01 - Record Audio"
   ]
  },
  {
   "cell_type": "code",
   "execution_count": 2,
   "metadata": {},
   "outputs": [
    {
     "name": "stdout",
     "output_type": "stream",
     "text": [
      "Audio instantiated\n",
      "Press R to start recording audio [ouptut=input.wav]\n",
      "Press S to stop recording...\n"
     ]
    }
   ],
   "source": [
    "# Instantiate Audio Class\n",
    "audio = Audio()\n",
    "\n",
    "# Record (R to start, S to stop)\n",
    "audio.record()"
   ]
  },
  {
   "cell_type": "markdown",
   "metadata": {},
   "source": [
    "## 02 - Transcribe Audio $\\rightarrow$ Text"
   ]
  },
  {
   "cell_type": "code",
   "execution_count": null,
   "metadata": {},
   "outputs": [],
   "source": [
    "# Instantiate Transcriber\n",
    "transcriber = Transcriber()\n",
    "\n",
    "# Transcribe\n",
    "text = transcriber.speech_to_text(audio.filename())\n",
    "\n",
    "print(f\"Text from audio: [{text}]\")"
   ]
  },
  {
   "cell_type": "markdown",
   "metadata": {},
   "source": [
    "## 03 - Translate Text $\\rightarrow$ Desired Language"
   ]
  },
  {
   "cell_type": "markdown",
   "metadata": {},
   "source": [
    "## 04 - Synthesize Text $\\rightarrow$ Audio"
   ]
  },
  {
   "cell_type": "markdown",
   "metadata": {},
   "source": []
  }
 ],
 "metadata": {
  "kernelspec": {
   "display_name": ".tech_demo",
   "language": "python",
   "name": "python3"
  },
  "language_info": {
   "codemirror_mode": {
    "name": "ipython",
    "version": 3
   },
   "file_extension": ".py",
   "mimetype": "text/x-python",
   "name": "python",
   "nbconvert_exporter": "python",
   "pygments_lexer": "ipython3",
   "version": "3.11.5"
  }
 },
 "nbformat": 4,
 "nbformat_minor": 2
}
