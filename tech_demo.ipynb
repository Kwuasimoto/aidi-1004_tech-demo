{
 "cells": [
  {
   "cell_type": "markdown",
   "metadata": {},
   "source": [
    "# AIDI-1004 Tech Demo\n",
    "\n",
    "Thomas Shank - 200346862\n",
    "\n",
    "DTT (DeepTalkTranslate)\n",
    "\n",
    "DTT is a audio hot-translator that "
   ]
  },
  {
   "cell_type": "code",
   "execution_count": 1,
   "metadata": {},
   "outputs": [],
   "source": [
    "## Hugging Face Cache Setup\n",
    "import os\n",
    "os.environ['TRANSFORMERS_CACHE'] = \"./.tech_demo/cache\""
   ]
  },
  {
   "cell_type": "code",
   "execution_count": 2,
   "metadata": {},
   "outputs": [
    {
     "name": "stderr",
     "output_type": "stream",
     "text": [
      "c:\\Users\\tomsr\\Documents\\School\\aidi\\AIDI1004 - Issues and Challenges in AI\\week-10\\.tech_demo\\Lib\\site-packages\\tqdm\\auto.py:21: TqdmWarning: IProgress not found. Please update jupyter and ipywidgets. See https://ipywidgets.readthedocs.io/en/stable/user_install.html\n",
      "  from .autonotebook import tqdm as notebook_tqdm\n",
      "Special tokens have been added in the vocabulary, make sure the associated word embeddings are fine-tuned or trained.\n"
     ]
    }
   ],
   "source": [
    "## Imports\n",
    "from encoding import Translator, Transcriber, Synthesizer\n",
    "from recording import Audio"
   ]
  },
  {
   "cell_type": "markdown",
   "metadata": {},
   "source": [
    "# 01 - Record Audio"
   ]
  },
  {
   "cell_type": "code",
   "execution_count": 3,
   "metadata": {},
   "outputs": [
    {
     "name": "stdout",
     "output_type": "stream",
     "text": [
      "Audio instantiated\n"
     ]
    }
   ],
   "source": [
    "# Instantiate Audio Class\n",
    "audio = Audio()\n",
    "\n",
    "# Record (R to start, S to stop)\n",
    "audio.record()"
   ]
  },
  {
   "cell_type": "markdown",
   "metadata": {},
   "source": [
    "## 02 - Transcribe Audio $\\rightarrow$ Text"
   ]
  },
  {
   "cell_type": "code",
   "execution_count": 4,
   "metadata": {},
   "outputs": [
    {
     "name": "stdout",
     "output_type": "stream",
     "text": [
      "Speech-to-text instantiated [device=cuda:0]\n",
      "Text from audio: [ Hello, this is Thomas, and this is my technology demonstration for Deep Talk Translator. Thanks for coming to my TED Talk.]\n"
     ]
    }
   ],
   "source": [
    "# Instantiate Transcriber\n",
    "transcriber = Transcriber()\n",
    "\n",
    "# Transcribe\n",
    "transcription = transcriber.transcribe(audio.filename())\n",
    "\n",
    "print(f\"Text from audio: [{transcription['text']}]\")"
   ]
  },
  {
   "cell_type": "markdown",
   "metadata": {},
   "source": [
    "## 03 - Translate Text $\\rightarrow$ Desired Language"
   ]
  },
  {
   "cell_type": "code",
   "execution_count": 5,
   "metadata": {},
   "outputs": [
    {
     "name": "stdout",
     "output_type": "stream",
     "text": [
      "Translator instantiated\n",
      "Translated to fr: [Bonjour, je m'appelle Thomas et ceci est ma démonstration technologique pour Deep Talk Translator. Merci d'être venu à mon TED Talk.]\n"
     ]
    }
   ],
   "source": [
    "# Instantiate Translator\n",
    "translator = Translator()\n",
    "\n",
    "# Translate\n",
    "lang_code = \"fr\"\n",
    "\n",
    "print(f\"Translating: [lang={lang_code}, text={transcription[\"text\"]}]\")\n",
    "translation = translator.translate(transcription[\"text\"], lang_code)\n",
    "\n",
    "print(f\"Translated to {lang_code}: [{translation}]\")"
   ]
  },
  {
   "cell_type": "markdown",
   "metadata": {},
   "source": [
    "## 04 - Synthesize Text $\\rightarrow$ Audio"
   ]
  },
  {
   "cell_type": "code",
   "execution_count": 6,
   "metadata": {},
   "outputs": [
    {
     "name": "stdout",
     "output_type": "stream",
     "text": [
      "Text-to-speech initialized\n"
     ]
    }
   ],
   "source": [
    "# Instantiate Synthesizer\n",
    "synthesizer = Synthesizer()\n",
    "\n",
    "# Synthesize the text and write to output.wav\n",
    "print(f\"Synthesizing: [lang={lang_code}, text={translation}]\")\n",
    "synthesized = synthesizer.synthesize(lang_code, translation)\n",
    "\n",
    "print(\"Finished synthesizing, writing to output.wav\")\n",
    "synthesizer.write(synthesized)\n",
    "\n",
    "print(\"Synthesized output written!\")"
   ]
  },
  {
   "cell_type": "markdown",
   "metadata": {},
   "source": []
  }
 ],
 "metadata": {
  "kernelspec": {
   "display_name": ".tech_demo",
   "language": "python",
   "name": "python3"
  },
  "language_info": {
   "codemirror_mode": {
    "name": "ipython",
    "version": 3
   },
   "file_extension": ".py",
   "mimetype": "text/x-python",
   "name": "python",
   "nbconvert_exporter": "python",
   "pygments_lexer": "ipython3",
   "version": "3.11.5"
  }
 },
 "nbformat": 4,
 "nbformat_minor": 2
}
