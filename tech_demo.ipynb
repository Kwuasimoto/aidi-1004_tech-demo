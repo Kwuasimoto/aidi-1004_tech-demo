{
 "cells": [
  {
   "cell_type": "markdown",
   "metadata": {},
   "source": [
    "# AIDI-1004 Tech Demo\n",
    "\n",
    "Thomas Shank - 200346862\n",
    "\n",
    "DTT (DeepTalkTranslate)\n",
    "\n",
    "DTT is a audio hot-translator that "
   ]
  },
  {
   "cell_type": "code",
   "execution_count": 1,
   "metadata": {},
   "outputs": [],
   "source": [
    "## Hugging Face Cache Setup\n",
    "import os\n",
    "os.environ['TRANSFORMERS_CACHE'] = \"./.tech_demo/cache\""
   ]
  },
  {
   "cell_type": "code",
   "execution_count": 2,
   "metadata": {},
   "outputs": [
    {
     "name": "stderr",
     "output_type": "stream",
     "text": [
      "c:\\Users\\tomsr\\Documents\\School\\aidi\\AIDI1004 - Issues and Challenges in AI\\week-10\\.tech_demo\\Lib\\site-packages\\tqdm\\auto.py:21: TqdmWarning: IProgress not found. Please update jupyter and ipywidgets. See https://ipywidgets.readthedocs.io/en/stable/user_install.html\n",
      "  from .autonotebook import tqdm as notebook_tqdm\n",
      "Special tokens have been added in the vocabulary, make sure the associated word embeddings are fine-tuned or trained.\n"
     ]
    }
   ],
   "source": [
    "## Imports\n",
    "from encoding import Translator, Transcriber, Synthesizer\n",
    "from recording import Audio"
   ]
  },
  {
   "cell_type": "code",
   "execution_count": 8,
   "metadata": {},
   "outputs": [
    {
     "name": "stdout",
     "output_type": "stream",
     "text": [
      "Translator instantiated\n",
      "Of course! How about \"AudioLingua\"? It combines the concepts of audio and language translation, giving it a modern and tech-savvy feel. What do you think?"
     ]
    }
   ],
   "source": [
    "# for line in stream:\n",
    "#     print(line, flush=True, end='')"
   ]
  },
  {
   "cell_type": "markdown",
   "metadata": {},
   "source": [
    "# 01 - Record Audio"
   ]
  },
  {
   "cell_type": "code",
   "execution_count": 3,
   "metadata": {},
   "outputs": [
    {
     "name": "stdout",
     "output_type": "stream",
     "text": [
      "Audio instantiated\n"
     ]
    }
   ],
   "source": [
    "# Instantiate Audio Class\n",
    "audio = Audio()\n",
    "\n",
    "# Record (R to start, S to stop)\n",
    "# audio.record()"
   ]
  },
  {
   "cell_type": "markdown",
   "metadata": {},
   "source": [
    "## 02 - Transcribe Audio $\\rightarrow$ Text"
   ]
  },
  {
   "cell_type": "code",
   "execution_count": 4,
   "metadata": {},
   "outputs": [
    {
     "name": "stdout",
     "output_type": "stream",
     "text": [
      "Speech-to-text instantiated\n",
      "Text from audio: [ Hello, this is Thomas, and this is my technology demonstration for Deep Talk Translator. Thanks for coming to my TED Talk.]\n"
     ]
    }
   ],
   "source": [
    "# Instantiate Transcriber\n",
    "transcriber = Transcriber()\n",
    "\n",
    "# Transcribe\n",
    "transcription = transcriber.transcribe(audio.filename())\n",
    "\n",
    "print(f\"Text from audio: [{transcription['text']}]\")"
   ]
  },
  {
   "cell_type": "markdown",
   "metadata": {},
   "source": [
    "## 03 - Translate Text $\\rightarrow$ Desired Language"
   ]
  },
  {
   "cell_type": "code",
   "execution_count": 5,
   "metadata": {},
   "outputs": [
    {
     "name": "stdout",
     "output_type": "stream",
     "text": [
      "Translator instantiated\n",
      "Translated to fr: []\n"
     ]
    }
   ],
   "source": [
    "# Instantiate Translator\n",
    "translator = Translator()\n",
    "\n",
    "# Translate\n",
    "lang_code = \"fr\"\n",
    "translation = translator.translate(transcription[\"text\"], lang_code)\n",
    "print(f\"Translated to {lang_code}: [{translation}]\")"
   ]
  },
  {
   "cell_type": "markdown",
   "metadata": {},
   "source": [
    "## 04 - Synthesize Text $\\rightarrow$ Audio"
   ]
  },
  {
   "cell_type": "code",
   "execution_count": null,
   "metadata": {},
   "outputs": [],
   "source": [
    "# Instantiate Synthesizer\n",
    "synthesizer = Synthesizer()\n",
    "\n",
    "# Synthesize the text and write to output.wav\n",
    "synthesized = synthesizer.synthesize(translation)\n",
    "synthesizer.write(synthesized)"
   ]
  },
  {
   "cell_type": "markdown",
   "metadata": {},
   "source": []
  }
 ],
 "metadata": {
  "kernelspec": {
   "display_name": ".tech_demo",
   "language": "python",
   "name": "python3"
  },
  "language_info": {
   "codemirror_mode": {
    "name": "ipython",
    "version": 3
   },
   "file_extension": ".py",
   "mimetype": "text/x-python",
   "name": "python",
   "nbconvert_exporter": "python",
   "pygments_lexer": "ipython3",
   "version": "3.11.5"
  }
 },
 "nbformat": 4,
 "nbformat_minor": 2
}
